{
 "cells": [
  {
   "cell_type": "code",
   "execution_count": 2,
   "id": "630613ef-af93-4463-8b25-bc4cf23f3d88",
   "metadata": {},
   "outputs": [
    {
     "name": "stdout",
     "output_type": "stream",
     "text": [
      "env: XLA_PYTHON_CLIENT_ALLOCATOR=platform\n"
     ]
    }
   ],
   "source": [
    "# Environment variable (keep this at the top)\n",
    "%env XLA_PYTHON_CLIENT_ALLOCATOR=platform\n",
    "\n",
    "# === 1. Imports ===\n",
    "\n",
    "# --- Third-Party Libraries ---\n",
    "import jax\n",
    "import jax.numpy as jnp\n",
    "import os\n",
    "# --- Local Project Modules ---\n",
    "# Import from your installable pinn_toolkit package\n",
    "from model import PINN\n",
    "from pde_dimless import PDE_dimless# Assuming pde_dimless.py is part of the toolkit\n",
    "from interactive_pde_suite import InteractivePDESuite\n",
    "from pinn_toolkit.util import load_model"
   ]
  },
  {
   "cell_type": "code",
   "execution_count": 3,
   "id": "ea53926c-3e07-44ba-8abb-a7d4441ff6e4",
   "metadata": {},
   "outputs": [],
   "source": [
    "# === 2. JAX Configuration & Physical Parameters ===\n",
    "\n",
    "# Use float64 for the high-precision PDE solver\n",
    "jax.config.update(\"jax_enable_x64\", True)\n",
    "\n",
    "key = jax.random.PRNGKey(20987167762)\n",
    "\n",
    "pdeparams_phys = {\n",
    "    \"alpha_phi\": 9.62e-5, \"omega_phi\": 1.663e7, \"M\": 8.5e-10 / (2 * 5.35e7),\n",
    "    \"A\": 5.35e7, \"L\": 1e-11, \"c_se\": 1.0, \"c_le\": 5100/1.43e5,\n",
    "    \"x_range\": (-50.0e-6, 50.0e-6), \"t_range\": (0, 1.0e5),\n",
    "    \"nx\": 128, \"nt\": 64, \"l_0\": 2*50.0e-6, \"t_0\": 1.0e5\n",
    "}\n",
    "\n",
    "pdedimless = PDE_dimless(pdeparams_phys)\n",
    "\n",
    "span_pde = {\n",
    "    'x': pdedimless.x_range_nd,\n",
    "    't': pdedimless.t_range_nd,\n",
    "    'L': (1e-11, 1e-10),\n",
    "    'M': (1e-21, 1e-20),\n",
    "    # 'alpha_phi': (1e-6, 1e-3),\n",
    "    # 'omega_phi': (1e6, 1e7)\n",
    "}\n",
    "span_model = {\n",
    "    'x': (-0.5, 0.5), 't': (0, 1), 'L': (0, 1), 'M': (0, 1),\n",
    "    # 'alpha_phi': (0, 1), 'omega_phi': (0, 1)\n",
    "}\n",
    "\n",
    "\n",
    "# === 3. Model Initialization ===\n",
    "\n",
    "# Switch to float32 for the neural network for better performance\n",
    "jax.config.update(\"jax_enable_x64\", False)\n",
    "\n",
    "inp_idx = {'x': 0, 't': 1, 'L': 2, 'M': 3}\n",
    "out_idx = {'phi': 0, 'c': 1}\n",
    "width = 32\n",
    "depth = 4\n",
    "base_model = PINN(inp_idx, out_idx, span_pde, span_model, width, depth)\n",
    "\n",
    "# Try to load a model from the test_run, if fail, proceed to next block and use base_model instead\n",
    "# model_path = os.path.join('models', 'test_run_sobol_10', '3eb9a7683ee2ea47_84a2fb5a191fbc74')\n",
    "# model_name = os.path.join(model_path, 'model_test_run_sobol_10_3eb9a7683ee2ea47_84a2fb5a191fbc74.pkl')\n",
    "# trained_model = load_model(base_model, model_name)"
   ]
  },
  {
   "cell_type": "code",
   "execution_count": 4,
   "id": "2ab21818-fb8e-4773-ad8c-d746893e3029",
   "metadata": {},
   "outputs": [
    {
     "name": "stdout",
     "output_type": "stream",
     "text": [
      "Initializing InteractivePDESuite...\n",
      "Solver has been JIT-compiled. Ready for interactive use.\n"
     ]
    },
    {
     "data": {
      "application/vnd.jupyter.widget-view+json": {
       "model_id": "c708bfbd390347a9b34609738670e83d",
       "version_major": 2,
       "version_minor": 0
      },
      "text/plain": [
       "VBox(children=(HBox(children=(FloatLogSlider(value=1e-11, continuous_update=False, description='L (Mobility)',…"
      ]
     },
     "metadata": {},
     "output_type": "display_data"
    },
    {
     "data": {
      "application/vnd.jupyter.widget-view+json": {
       "model_id": "1973581612b5401f9c8cc0c207242f7e",
       "version_major": 2,
       "version_minor": 0
      },
      "text/plain": [
       "Output(layout=Layout(min_height='850px'))"
      ]
     },
     "metadata": {},
     "output_type": "display_data"
    }
   ],
   "source": [
    "# === 4. Interactive Analysis ===\n",
    "\n",
    "suite = InteractivePDESuite(pdeparams_phys)\n",
    "suite.create_interactive_comparison_plot(\n",
    "    model=base_model, #trained_model, \n",
    "    span_pde=span_pde,\n",
    "    span_model=span_model,\n",
    "    num_frames=10,\n",
    "    prediction_color='match'\n",
    ")"
   ]
  },
  {
   "cell_type": "code",
   "execution_count": null,
   "id": "269a345a-e52d-4c3b-9d25-ebb9b8f41a0e",
   "metadata": {},
   "outputs": [],
   "source": []
  }
 ],
 "metadata": {
  "kernelspec": {
   "display_name": "Python 3 (ipykernel)",
   "language": "python",
   "name": "python3"
  },
  "language_info": {
   "codemirror_mode": {
    "name": "ipython",
    "version": 3
   },
   "file_extension": ".py",
   "mimetype": "text/x-python",
   "name": "python",
   "nbconvert_exporter": "python",
   "pygments_lexer": "ipython3",
   "version": "3.11.13"
  }
 },
 "nbformat": 4,
 "nbformat_minor": 5
}
