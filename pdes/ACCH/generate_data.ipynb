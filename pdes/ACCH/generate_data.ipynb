{
 "cells": [
  {
   "cell_type": "code",
   "execution_count": 1,
   "id": "964a41ca-1d2d-4b6b-879a-3999a6b37813",
   "metadata": {},
   "outputs": [
    {
     "name": "stdout",
     "output_type": "stream",
     "text": [
      "This machine has 24 logical cores.\n"
     ]
    }
   ],
   "source": [
    "import os\n",
    "import time\n",
    "import numpy as np\n",
    "from generate_data import *\n",
    "import numpy as np\n",
    "from scipy.integrate import solve_ivp\n",
    "import sys, os\n",
    "from pinn_toolkit.util import *\n",
    "import time\n",
    "print(f\"This machine has {os.cpu_count()} logical cores.\")"
   ]
  },
  {
   "cell_type": "code",
   "execution_count": 2,
   "id": "46a1f5b8-8b9a-4682-8d9d-30f002808169",
   "metadata": {},
   "outputs": [],
   "source": [
    "# set up the pde parameters\n",
    "pdeparams_phys = {\n",
    "    \"alpha_phi\": 9.62e-5,\n",
    "    \"omega_phi\": 1.663e7,\n",
    "    \"M\": 8.5e-10 / (2 * 5.35e7),\n",
    "    \"A\": 5.35e7,\n",
    "    \"L\": 1e-11,\n",
    "    \"c_se\": 1.0,\n",
    "    \"c_le\": 5100 / 1.43e5,\n",
    "    \"x_range\": (-50.0e-6, 50.0e-6),\n",
    "    \"t_range\": (0, 1.0e5),\n",
    "    \"nx\": 128,\n",
    "    \"nt\": 128,\n",
    "    \"l_0\": 2 * 50.0e-6,\n",
    "    \"t_0\": 1.0e5\n",
    "}\n",
    "\n",
    "# Example for a 4-parameter run:\n",
    "span_pde = {\n",
    "    'L': (1e-12, 1e-10),\n",
    "    'M': (1e-21, 1e-19)\n",
    "}\n",
    "\n",
    "# The normalized [0, 1] model space for mapping (should contain all possible keys)\n",
    "span_model = {\n",
    "    'L': (0, 1),\n",
    "    'M': (0, 1)\n",
    "}"
   ]
  },
  {
   "cell_type": "code",
   "execution_count": 3,
   "id": "d2b74616-5493-4278-836b-591ccba60048",
   "metadata": {},
   "outputs": [
    {
     "name": "stdout",
     "output_type": "stream",
     "text": [
      "1.7954771518707275\n"
     ]
    }
   ],
   "source": [
    "ts = time.time()\n",
    "solve_pde(pdeparams_phys)\n",
    "print(time.time()-ts)"
   ]
  },
  {
   "cell_type": "code",
   "execution_count": 4,
   "id": "accfdf09-351f-4740-adce-70673cc10a4b",
   "metadata": {},
   "outputs": [
    {
     "name": "stdout",
     "output_type": "stream",
     "text": [
      "Generating 5000 parameter sets...\n",
      "--- Parameter generation complete. ---\n"
     ]
    },
    {
     "name": "stderr",
     "output_type": "stream",
     "text": [
      "/home/fangkoukou/pinn/JAX-PF-PINN-4.0/pdes/ACCH/generate_data.py:226: UserWarning: The balance properties of Sobol' points require n to be a power of 2.\n",
      "  model_points = sampler.random(n=total_simulations)\n"
     ]
    }
   ],
   "source": [
    "total_simulations = 100000\n",
    "param_list = generate_parameter_sets(pdeparams_phys, span_pde, span_model, total_simulations)"
   ]
  },
  {
   "cell_type": "code",
   "execution_count": 13,
   "id": "4a095e67-c722-419e-88a5-0bd182ad8d90",
   "metadata": {},
   "outputs": [
    {
     "name": "stdout",
     "output_type": "stream",
     "text": [
      "Preparing HDF5 output at: data/2rqmc_5k_128*128\n"
     ]
    }
   ],
   "source": [
    "data_disk_path = 'data'\n",
    "filename = \"2rqmc_100k_128*128\" # f'qmc_{num_params}D_params_run.hdf5'  # Filename reflects the number of varied params\n",
    "output_filename = os.path.join(data_disk_path, filename)\n",
    "os.makedirs(data_disk_path, exist_ok=True)\n",
    "print(f\"Preparing HDF5 output at: {output_filename}\")"
   ]
  },
  {
   "cell_type": "code",
   "execution_count": 6,
   "id": "618fb47c-95bd-4d4f-87ff-384feb4784bd",
   "metadata": {},
   "outputs": [
    {
     "name": "stdout",
     "output_type": "stream",
     "text": [
      "\n",
      "--- Starting Simulation Run (5000 total) ---\n",
      "Results will be saved to '../data/2rqmc_5k_128*128'\n",
      "-> Allocating disk space for simulation results...\n",
      "-> Storing the 2 specified PDE parameters...\n",
      "   - Created dataset 'L'\n",
      "   - Created dataset 'M'\n",
      "-> Storing constant axes 'x_nd' and 't_nd'...\n",
      "\n",
      "Submitting 5000 simulations to the process pool (24 workers)...\n"
     ]
    },
    {
     "data": {
      "application/vnd.jupyter.widget-view+json": {
       "model_id": "5bc2908c8ec9476fbfd220ff448fc168",
       "version_major": 2,
       "version_minor": 0
      },
      "text/plain": [
       "Simulations:   0%|          | 0/5000 [00:00<?, ?it/s]"
      ]
     },
     "metadata": {},
     "output_type": "display_data"
    },
    {
     "name": "stderr",
     "output_type": "stream",
     "text": [
      "/home/fangkoukou/anaconda3/envs/jax/lib/python3.11/site-packages/scipy/integrate/_ivp/bdf.py:415: RuntimeWarning: invalid value encountered in subtract\n",
      "  D[order + 2] = d - D[order + 1]\n",
      "/home/fangkoukou/anaconda3/envs/jax/lib/python3.11/site-packages/scipy/integrate/_ivp/bdf.py:415: RuntimeWarning: invalid value encountered in subtract\n",
      "  D[order + 2] = d - D[order + 1]\n",
      "/home/fangkoukou/anaconda3/envs/jax/lib/python3.11/site-packages/scipy/integrate/_ivp/bdf.py:415: RuntimeWarning: invalid value encountered in subtract\n",
      "  D[order + 2] = d - D[order + 1]\n"
     ]
    },
    {
     "name": "stdout",
     "output_type": "stream",
     "text": [
      "\n",
      "----------------------------------------------------\n",
      "All simulations complete.\n",
      "Total execution time: 2.53 minutes\n",
      "----------------------------------------------------\n"
     ]
    }
   ],
   "source": [
    "run_and_save_simulations(output_filename,  span_model.keys(), param_list)"
   ]
  },
  {
   "cell_type": "code",
   "execution_count": 14,
   "id": "3208118e-c1d0-427d-8a28-3e776107d8d6",
   "metadata": {},
   "outputs": [
    {
     "data": {
      "text/plain": [
       "dict_keys(['L', 'M', 'c', 'phi', 'x', 't'])"
      ]
     },
     "execution_count": 14,
     "metadata": {},
     "output_type": "execute_result"
    }
   ],
   "source": [
    "# check if the data is loade properly\n",
    "ref_data = load_h5(output_filename)\n",
    "ref_data.keys()"
   ]
  },
  {
   "cell_type": "code",
   "execution_count": 15,
   "id": "dd31c496-70cd-432d-85f0-fa4435142679",
   "metadata": {},
   "outputs": [],
   "source": [
    "ree = get_i(ref_data['c'],200)"
   ]
  },
  {
   "cell_type": "code",
   "execution_count": 16,
   "id": "8a1d74cb-9163-4ae2-ae84-431d651ad3f0",
   "metadata": {},
   "outputs": [
    {
     "data": {
      "text/plain": [
       "<matplotlib.image.AxesImage at 0x7689e15e5050>"
      ]
     },
     "execution_count": 16,
     "metadata": {},
     "output_type": "execute_result"
    },
    {
     "data": {
      "image/png": "[encoded data removed]",
      "text/plain": [
       "<Figure size 640x480 with 1 Axes>"
      ]
     },
     "metadata": {},
     "output_type": "display_data"
    }
   ],
   "source": [
    "plt.imshow(ree)"
   ]
  },
  {
   "cell_type": "code",
   "execution_count": null,
   "id": "5787904e-2efe-4e13-b8db-166ddd51a67c",
   "metadata": {},
   "outputs": [],
   "source": []
  }
 ],
 "metadata": {
  "kernelspec": {
   "display_name": "Python 3 (ipykernel)",
   "language": "python",
   "name": "python3"
  },
  "language_info": {
   "codemirror_mode": {
    "name": "ipython",
    "version": 3
   },
   "file_extension": ".py",
   "mimetype": "text/x-python",
   "name": "python",
   "nbconvert_exporter": "python",
   "pygments_lexer": "ipython3",
   "version": "3.11.13"
  }
 },
 "nbformat": 4,
 "nbformat_minor": 5
}
